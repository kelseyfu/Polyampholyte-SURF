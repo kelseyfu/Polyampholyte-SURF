{
 "cells": [
  {
   "cell_type": "code",
   "execution_count": 29,
   "metadata": {},
   "outputs": [],
   "source": [
    "import MDAnalysis as mda\n",
    "import numpy as np\n",
    "from mdcraft.analysis.polymer import EndToEndVector, Gyradius\n",
    "from matplotlib import pyplot as plt"
   ]
  },
  {
   "cell_type": "code",
   "execution_count": 8,
   "metadata": {},
   "outputs": [],
   "source": [
    "u = mda.Universe('../samples/input.data', '../samples/drop.lammpstrj',format='LAMMPSDUMP')\n",
    "ag = u.select_atoms('type 1 or type 2 or type 3')"
   ]
  },
  {
   "cell_type": "code",
   "execution_count": 36,
   "metadata": {},
   "outputs": [
    {
     "name": "stderr",
     "output_type": "stream",
     "text": [
      "/home/pjwalker/anaconda3/lib/python3.9/site-packages/MDAnalysis/coordinates/base.py:721: UserWarning: Reader has no dt information, set to 1.0 ps\n",
      "  return self.ts.dt\n"
     ]
    }
   ],
   "source": [
    "e2e = EndToEndVector(ag,n_chains=1,n_monomers=40, unwrap=True)"
   ]
  },
  {
   "cell_type": "code",
   "execution_count": 37,
   "metadata": {},
   "outputs": [
    {
     "data": {
      "application/vnd.jupyter.widget-view+json": {
       "model_id": "687b1d12cd154f24813c050cdb1d4945",
       "version_major": 2,
       "version_minor": 0
      },
      "text/plain": [
       "  0%|          | 0/301 [00:00<?, ?it/s]"
      ]
     },
     "metadata": {},
     "output_type": "display_data"
    },
    {
     "name": "stderr",
     "output_type": "stream",
     "text": [
      "/home/pjwalker/anaconda3/lib/python3.9/site-packages/MDAnalysis/analysis/base.py:438: UserWarning: Reader has no dt information, set to 1.0 ps\n",
      "  self.times[i] = ts.time\n"
     ]
    },
    {
     "data": {
      "application/vnd.jupyter.widget-view+json": {
       "model_id": "3ffc9eca4b9148dcbbfc3fc96efc052e",
       "version_major": 2,
       "version_minor": 0
      },
      "text/plain": [
       "0it [00:00, ?it/s]"
      ]
     },
     "metadata": {},
     "output_type": "display_data"
    },
    {
     "data": {
      "text/plain": [
       "<mdcraft.analysis.polymer.EndToEndVector at 0x75f2e0909190>"
      ]
     },
     "execution_count": 37,
     "metadata": {},
     "output_type": "execute_result"
    }
   ],
   "source": [
    "e2e.run()"
   ]
  },
  {
   "cell_type": "code",
   "execution_count": 38,
   "metadata": {},
   "outputs": [
    {
     "data": {
      "text/plain": [
       "{'acf': array([[[ 1.00000000e+00,  8.95948860e-01,  8.61728170e-01,\n",
       "          8.40209048e-01,  8.56414450e-01,  8.54739694e-01,\n",
       "          8.17777559e-01,  8.04865273e-01,  7.98814312e-01,\n",
       "          7.99106782e-01,  7.86191862e-01,  7.75202739e-01,\n",
       "          7.65036959e-01,  7.51464091e-01,  7.46575190e-01,\n",
       "          7.41062135e-01,  7.29739949e-01,  7.22288271e-01,\n",
       "          7.14990453e-01,  7.20433166e-01,  7.04253439e-01,\n",
       "          6.89120546e-01,  6.81408442e-01,  6.80654932e-01,\n",
       "          6.74955684e-01,  6.63249690e-01,  6.53051963e-01,\n",
       "          6.44475461e-01,  6.31364491e-01,  6.13107016e-01,\n",
       "          5.98620149e-01,  5.89629081e-01,  5.74550952e-01,\n",
       "          5.62512643e-01,  5.49746994e-01,  5.39362048e-01,\n",
       "          5.22238781e-01,  5.05213853e-01,  4.86169769e-01,\n",
       "          4.73731909e-01,  4.60009116e-01,  4.44518394e-01,\n",
       "          4.28208548e-01,  4.13656575e-01,  3.95527298e-01,\n",
       "          3.80493894e-01,  3.70542888e-01,  3.56428424e-01,\n",
       "          3.37108425e-01,  3.13939940e-01,  3.06774948e-01,\n",
       "          2.96809234e-01,  2.85135180e-01,  2.69338292e-01,\n",
       "          2.54988699e-01,  2.42309591e-01,  2.32548747e-01,\n",
       "          2.17186534e-01,  2.01839176e-01,  1.87729173e-01,\n",
       "          1.71592551e-01,  1.59688386e-01,  1.52883312e-01,\n",
       "          1.42557321e-01,  1.29384586e-01,  1.14877733e-01,\n",
       "          1.07930238e-01,  9.45397111e-02,  7.68787258e-02,\n",
       "          6.41150206e-02,  5.46530005e-02,  4.88832849e-02,\n",
       "          3.28022462e-02,  1.60507315e-02,  1.00526912e-02,\n",
       "          9.07407148e-03, -8.24916871e-04, -1.09127033e-02,\n",
       "         -2.21427092e-02, -2.84728670e-02, -3.35019998e-02,\n",
       "         -4.61159883e-02, -5.22302419e-02, -6.27766047e-02,\n",
       "         -7.46223558e-02, -7.96403021e-02, -8.56750808e-02,\n",
       "         -9.22048127e-02, -1.08892056e-01, -1.19128730e-01,\n",
       "         -1.27745847e-01, -1.34573057e-01, -1.48336956e-01,\n",
       "         -1.59181749e-01, -1.69445973e-01, -1.78438501e-01,\n",
       "         -1.90729950e-01, -1.91978791e-01, -2.00080145e-01,\n",
       "         -2.08534168e-01, -2.17924412e-01, -2.28110729e-01,\n",
       "         -2.31266404e-01, -2.34665236e-01, -2.37660518e-01,\n",
       "         -2.35745554e-01, -2.37180817e-01, -2.45901086e-01,\n",
       "         -2.43789452e-01, -2.47160495e-01, -2.51248772e-01,\n",
       "         -2.51570075e-01, -2.56917920e-01, -2.57318846e-01,\n",
       "         -2.60662219e-01, -2.66555297e-01, -2.68122163e-01,\n",
       "         -2.75171714e-01, -2.76414569e-01, -2.75357564e-01,\n",
       "         -2.82246813e-01, -2.90430392e-01, -2.99676231e-01,\n",
       "         -2.97866755e-01, -2.98806389e-01, -3.02338677e-01,\n",
       "         -3.04391581e-01, -3.01080711e-01, -2.99872716e-01,\n",
       "         -3.06306885e-01, -3.05606272e-01, -3.09242192e-01,\n",
       "         -3.12716167e-01, -3.15291138e-01, -3.16531304e-01,\n",
       "         -3.16785245e-01, -3.21629763e-01, -3.12990500e-01,\n",
       "         -3.04619834e-01, -2.94271992e-01, -2.83787417e-01,\n",
       "         -2.79389167e-01, -2.70743943e-01, -2.73224920e-01,\n",
       "         -2.69285555e-01, -2.67830866e-01, -2.64938693e-01,\n",
       "         -2.64717571e-01, -2.69142085e-01, -2.63545003e-01,\n",
       "         -2.63937040e-01, -2.59871507e-01, -2.58666980e-01,\n",
       "         -2.50339067e-01, -2.46226232e-01, -2.50520595e-01,\n",
       "         -2.50480708e-01, -2.46534925e-01, -2.39061862e-01,\n",
       "         -2.32088333e-01, -2.28733683e-01, -2.25068041e-01,\n",
       "         -2.21325877e-01, -2.17118341e-01, -2.08001413e-01,\n",
       "         -2.01983910e-01, -2.00613349e-01, -1.97487836e-01,\n",
       "         -1.89410983e-01, -1.76391348e-01, -1.66126195e-01,\n",
       "         -1.63610173e-01, -1.59611196e-01, -1.54626146e-01,\n",
       "         -1.45398570e-01, -1.40459006e-01, -1.36009276e-01,\n",
       "         -1.30356530e-01, -1.19210954e-01, -1.16814959e-01,\n",
       "         -1.06830096e-01, -9.47844486e-02, -8.06210471e-02,\n",
       "         -7.21152549e-02, -6.95564889e-02, -6.49025816e-02,\n",
       "         -4.86059927e-02, -4.03150222e-02, -3.78985175e-02,\n",
       "         -2.94892668e-02, -2.24065369e-02, -1.39125037e-02,\n",
       "         -1.23244791e-02, -4.24974978e-03,  1.83416148e-04,\n",
       "          5.10635709e-03,  6.78052692e-03,  1.50009531e-02,\n",
       "          1.45669496e-02,  1.54663333e-02,  2.46547350e-02,\n",
       "          3.30896033e-02,  3.95915755e-02,  3.73001634e-02,\n",
       "          1.65089415e-02,  4.75713282e-02,  8.61033883e-02,\n",
       "          7.02021597e-02,  6.05304472e-02,  1.78136409e-02,\n",
       "          6.43456642e-02,  7.02022297e-02,  4.52469561e-02,\n",
       "          4.12866778e-02,  1.36842337e-02,  2.70898632e-02,\n",
       "          6.20759352e-02,  8.73140359e-02,  4.94923816e-02,\n",
       "         -8.76747416e-04,  1.69503279e-02,  2.86334327e-02,\n",
       "          2.04317731e-02, -4.53822886e-02, -2.92253683e-02,\n",
       "          2.02598949e-02,  1.53168074e-02, -3.14791985e-02,\n",
       "         -8.89767027e-02, -6.94130186e-02, -7.69967323e-02,\n",
       "         -9.74082060e-02, -1.26078789e-01, -1.05905339e-01,\n",
       "         -1.01425128e-01, -1.07356932e-01, -1.07106015e-01,\n",
       "         -1.03519613e-01, -1.05642174e-01, -1.08439347e-01,\n",
       "         -1.13334499e-01, -1.22807405e-01, -1.25595227e-01,\n",
       "         -1.21276295e-01, -1.13871205e-01, -1.27102399e-01,\n",
       "         -1.61792690e-01, -1.68411364e-01, -1.47831558e-01,\n",
       "         -1.46891516e-01, -1.60837183e-01, -1.69708008e-01,\n",
       "         -1.76356051e-01, -1.48494316e-01, -1.70855688e-01,\n",
       "         -1.78823535e-01, -1.83354434e-01, -1.77192170e-01,\n",
       "         -1.93346093e-01, -2.00339533e-01, -2.23646079e-01,\n",
       "         -2.05505078e-01, -1.91163319e-01, -1.91785947e-01,\n",
       "         -1.85371881e-01, -2.08834519e-01, -2.23725167e-01,\n",
       "         -1.86314892e-01, -1.81786283e-01, -1.66098412e-01,\n",
       "         -1.67554497e-01, -1.46045792e-01, -1.03565537e-01,\n",
       "         -8.03601143e-02, -7.05345991e-02, -8.71217019e-02,\n",
       "         -8.76117213e-02, -6.03636708e-02, -7.70508968e-02,\n",
       "         -4.22381696e-02, -5.36271262e-02,  1.35347908e-03,\n",
       "         -5.20399291e-03, -1.18956571e-02, -5.74659950e-03,\n",
       "         -1.40099615e-02, -6.79250611e-02,  1.23340503e-02,\n",
       "          4.07209924e-02,  8.14168271e-02, -4.35006888e-02,\n",
       "          3.51815841e-02,  9.75554102e-02,  1.12062198e-01,\n",
       "          7.69109318e-02,  6.75005127e-03,  8.54662126e-02,\n",
       "          1.14045987e-02, -2.74186987e-01, -6.41228299e-01,\n",
       "         -5.46503186e-01]]]), 'times': array([  0.,   1.,   2.,   3.,   4.,   5.,   6.,   7.,   8.,   9.,  10.,\n",
       "        11.,  12.,  13.,  14.,  15.,  16.,  17.,  18.,  19.,  20.,  21.,\n",
       "        22.,  23.,  24.,  25.,  26.,  27.,  28.,  29.,  30.,  31.,  32.,\n",
       "        33.,  34.,  35.,  36.,  37.,  38.,  39.,  40.,  41.,  42.,  43.,\n",
       "        44.,  45.,  46.,  47.,  48.,  49.,  50.,  51.,  52.,  53.,  54.,\n",
       "        55.,  56.,  57.,  58.,  59.,  60.,  61.,  62.,  63.,  64.,  65.,\n",
       "        66.,  67.,  68.,  69.,  70.,  71.,  72.,  73.,  74.,  75.,  76.,\n",
       "        77.,  78.,  79.,  80.,  81.,  82.,  83.,  84.,  85.,  86.,  87.,\n",
       "        88.,  89.,  90.,  91.,  92.,  93.,  94.,  95.,  96.,  97.,  98.,\n",
       "        99., 100., 101., 102., 103., 104., 105., 106., 107., 108., 109.,\n",
       "       110., 111., 112., 113., 114., 115., 116., 117., 118., 119., 120.,\n",
       "       121., 122., 123., 124., 125., 126., 127., 128., 129., 130., 131.,\n",
       "       132., 133., 134., 135., 136., 137., 138., 139., 140., 141., 142.,\n",
       "       143., 144., 145., 146., 147., 148., 149., 150., 151., 152., 153.,\n",
       "       154., 155., 156., 157., 158., 159., 160., 161., 162., 163., 164.,\n",
       "       165., 166., 167., 168., 169., 170., 171., 172., 173., 174., 175.,\n",
       "       176., 177., 178., 179., 180., 181., 182., 183., 184., 185., 186.,\n",
       "       187., 188., 189., 190., 191., 192., 193., 194., 195., 196., 197.,\n",
       "       198., 199., 200., 201., 202., 203., 204., 205., 206., 207., 208.,\n",
       "       209., 210., 211., 212., 213., 214., 215., 216., 217., 218., 219.,\n",
       "       220., 221., 222., 223., 224., 225., 226., 227., 228., 229., 230.,\n",
       "       231., 232., 233., 234., 235., 236., 237., 238., 239., 240., 241.,\n",
       "       242., 243., 244., 245., 246., 247., 248., 249., 250., 251., 252.,\n",
       "       253., 254., 255., 256., 257., 258., 259., 260., 261., 262., 263.,\n",
       "       264., 265., 266., 267., 268., 269., 270., 271., 272., 273., 274.,\n",
       "       275., 276., 277., 278., 279., 280., 281., 282., 283., 284., 285.,\n",
       "       286., 287., 288., 289., 290., 291., 292., 293., 294., 295., 296.,\n",
       "       297., 298., 299., 300.]), 'units': {'times': <Unit('picosecond')>}}"
      ]
     },
     "execution_count": 38,
     "metadata": {},
     "output_type": "execute_result"
    }
   ],
   "source": [
    "e2e.results"
   ]
  },
  {
   "cell_type": "code",
   "execution_count": 39,
   "metadata": {},
   "outputs": [
    {
     "data": {
      "text/plain": [
       "array([ 1.96209354,  3.05908353,  4.92565374,  4.47002588,  3.10241707,\n",
       "        4.39454496,  2.73436975,  1.47109459,  3.09432733,  3.40863049,\n",
       "        1.846158  ,  4.19563812,  3.53754691,  1.81652488,  1.41408337,\n",
       "        3.88129066,  3.63697454,  1.04368013,  3.04542737,  1.16644546,\n",
       "       18.61744819, 21.55503207, 22.00019072, 21.6175957 , 22.78812942,\n",
       "       18.3978496 , 23.07704043, 27.23081818, 28.10990515, 27.36816627,\n",
       "       45.82543297, 47.16578989, 38.87441853, 40.9549921 , 39.12424917,\n",
       "       37.38197593, 43.94634949, 42.67934495, 40.21509892, 39.74573979,\n",
       "       39.59314045, 40.88081919, 42.77181957, 38.05688748, 38.41367755,\n",
       "       39.14184022, 37.62443191, 36.62274978, 20.36361964, 20.28651387,\n",
       "       19.2683051 , 22.31578493, 20.39507915, 22.33210823, 19.72601904,\n",
       "       22.51497086, 23.66229136, 23.92993791, 20.52652439, 19.32248157,\n",
       "       19.55671521, 20.74588483, 20.96815266, 19.52639361, 22.43127281,\n",
       "       19.9351354 , 18.75353281, 19.01442701, 18.43002046, 27.44625643,\n",
       "       31.59432271, 27.48463914, 28.93283623, 28.93852414, 25.95265356,\n",
       "       26.81163812, 26.83267062, 28.3479193 , 29.62866541, 29.78393971,\n",
       "       31.43190642, 24.5674374 , 29.18600302, 28.1935848 , 28.73756602,\n",
       "       27.01908832, 27.31215778, 26.17731167, 27.66452242, 30.58436023,\n",
       "       28.71993556, 29.77684871, 29.57285982, 26.68078357, 18.32601595,\n",
       "       21.18121888, 20.65400313, 23.04898054, 19.01068247, 21.48454806,\n",
       "       22.80036604, 20.95300725, 18.12975321, 22.14189742, 21.82886617,\n",
       "       18.08805034, 18.01743919, 20.79967291, 18.47610405, 23.57996776,\n",
       "       22.57879763, 22.6744055 , 17.76214635, 21.92413217, 19.52229046,\n",
       "       21.81336974, 19.49029834, 18.22382871, 18.06534101, 20.29894755,\n",
       "       23.77176042, 17.07664784, 21.57951876, 21.12129425, 21.87855219,\n",
       "       17.97363283, 19.46763681, 27.45281776, 27.7661538 , 26.69886269,\n",
       "       31.32882478, 25.50024665, 24.76423092, 25.17221603, 23.96593941,\n",
       "       27.54331941, 30.55446453, 29.37711433, 30.02056835, 25.57361944,\n",
       "       27.22868915, 25.53640573, 24.43128504, 34.50532657, 36.61429765,\n",
       "       33.91844227, 34.47569335, 33.0538323 , 34.57657957, 30.81375775,\n",
       "       28.8133263 , 32.6014431 , 29.55169928, 30.81376901, 42.22801289,\n",
       "       43.38530342, 44.24567325, 44.05048062, 42.92899341, 44.13808419,\n",
       "       42.49558798, 39.44841256, 41.07898283, 39.89772201, 36.83796788,\n",
       "       41.46031412, 38.68905384, 40.16107565, 39.74604409, 42.48071281,\n",
       "       36.40053901, 38.43214497, 41.15443756, 40.83671783, 40.67695413,\n",
       "       41.35464516, 40.52845007, 39.34397513, 39.18079038, 37.57388558,\n",
       "       42.69988584, 40.09135244, 41.06476881, 36.75661774, 43.22400948,\n",
       "       43.33652403, 39.47209442, 41.23467942, 40.77522789, 40.61374088,\n",
       "       46.73526311, 45.77404018, 42.03873448, 45.02606849, 43.43025027,\n",
       "       44.48721913, 42.17429386, 22.47549899, 21.75171074, 19.56828697,\n",
       "       23.01149378, 23.01758824, 19.40589076, 22.08829121, 19.63279978,\n",
       "       20.2566873 , 20.09280851, 19.27140487, 19.54447395, 21.77966818,\n",
       "       21.64585511, 22.37252187, 21.9778062 , 21.30471034, 16.07376428,\n",
       "       20.73611824, 19.57956861, 20.77122289, 23.42532683, 18.81802288,\n",
       "       16.7624301 , 19.27197527,  1.2972811 ,  2.08929211,  1.72484542,\n",
       "       16.68944216,  3.44217711,  2.52816309,  1.69803677,  2.68778693,\n",
       "        3.87017261,  2.29755585,  2.82607911, 17.34907985, 21.84703444,\n",
       "       17.62280319, 21.9540798 , 20.41234627, 21.74323306, 21.81058243,\n",
       "       19.5844432 , 21.16606877, 21.56855165, 20.55980787, 21.83694341,\n",
       "       23.03220328, 22.94364684, 21.01834519, 20.59571208,  4.03240471,\n",
       "        3.51829474,  3.53104744, 20.85518089, 18.26536353, 21.11412417,\n",
       "       20.24831942, 21.98018936, 18.76139539, 22.26628943, 16.2062026 ,\n",
       "       17.93680412, 16.88594469, 20.80773311, 19.2899577 , 19.05161809,\n",
       "       18.29915399, 18.42213569, 19.86872715, 19.16305144, 19.85719105,\n",
       "       21.87521997, 16.62219574, 17.92380907, 20.98765307, 20.0453359 ,\n",
       "       19.03413607, 22.58632124, 23.21321123, 16.21675723, 19.64269844,\n",
       "       18.10513323, 26.59909197, 26.41682673, 30.33776724, 27.11524523,\n",
       "       26.12611194, 29.67626497, 28.32530993, 26.89774723, 28.7631003 ,\n",
       "       31.87500421, 35.09994615, 35.82164354, 32.6818372 , 43.03797386,\n",
       "       43.64775168, 45.82466569, 45.86170681, 44.08438687, 47.02973707,\n",
       "       43.69473534])"
      ]
     },
     "execution_count": 39,
     "metadata": {},
     "output_type": "execute_result"
    }
   ],
   "source": [
    "abs_e2e = np.zeros(len(e2e._e2e))\n",
    "\n",
    "for i in range(len(e2e._e2e)):\n",
    "    abs_e2e[i] = np.linalg.norm(e2e._e2e[i])\n",
    "\n",
    "abs_e2e"
   ]
  },
  {
   "cell_type": "code",
   "execution_count": 40,
   "metadata": {},
   "outputs": [
    {
     "data": {
      "text/plain": [
       "[<matplotlib.lines.Line2D at 0x75f2e0866430>]"
      ]
     },
     "execution_count": 40,
     "metadata": {},
     "output_type": "execute_result"
    },
    {
     "data": {
      "image/png": "[encoded data removed]",
      "text/plain": [
       "<Figure size 640x480 with 1 Axes>"
      ]
     },
     "metadata": {},
     "output_type": "display_data"
    }
   ],
   "source": [
    "plt.plot(e2e.results.times,abs_e2e)"
   ]
  },
  {
   "cell_type": "code",
   "execution_count": null,
   "metadata": {},
   "outputs": [],
   "source": []
  }
 ],
 "metadata": {
  "kernelspec": {
   "display_name": "Python 3",
   "language": "python",
   "name": "python3"
  },
  "language_info": {
   "codemirror_mode": {
    "name": "ipython",
    "version": 3
   },
   "file_extension": ".py",
   "mimetype": "text/x-python",
   "name": "python",
   "nbconvert_exporter": "python",
   "pygments_lexer": "ipython3",
   "version": "3.9.13"
  }
 },
 "nbformat": 4,
 "nbformat_minor": 2
}
